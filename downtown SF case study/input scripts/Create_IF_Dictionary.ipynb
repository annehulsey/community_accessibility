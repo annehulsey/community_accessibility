{
 "cells": [
  {
   "cell_type": "code",
   "execution_count": 1,
   "metadata": {},
   "outputs": [],
   "source": [
    "import numpy as np\n",
    "import pandas as pd\n",
    "import tables\n",
    "import h5py\n",
    "import matplotlib.pyplot as plt\n",
    "import json\n",
    "import csv\n",
    "\n",
    "# set all single line variables to be displayed, not just the last line\n",
    "from IPython.core.interactiveshell import InteractiveShell\n",
    "InteractiveShell.ast_node_interactivity = \"all\""
   ]
  },
  {
   "cell_type": "code",
   "execution_count": 2,
   "metadata": {},
   "outputs": [
    {
     "data": {
      "text/plain": [
       "3612"
      ]
     },
     "execution_count": 2,
     "metadata": {},
     "output_type": "execute_result"
    }
   ],
   "source": [
    "if_dictionary = {'Inspection': {'Essential'    : {'Default': {'median': 2, 'beta': 0.54},\n",
    "                                                  'BORP'   : {'median': 1, 'beta': 0.54}\n",
    "                                                 },\n",
    "                                'Non-Essential': {'Default': {'median': 5, 'beta': 0.54},\n",
    "                                                  'BORP'   : {'median': 1, 'beta': 0.54}\n",
    "                                                 },\n",
    "                               },\n",
    "                                \n",
    "                 'EngMob'    : {'On Contract'  : {'Low Damage'  : {'median':  2, 'beta': 0.32},\n",
    "                                                  'High Damage' : {'median':  4, 'beta': 0.54},\n",
    "                                                  'Replacement' : {'median': 42, 'beta': 0.45}\n",
    "                                                 },\n",
    "                                'Default'      : {'Low Damage'  : {'median':  6, 'beta': 0.40},\n",
    "                                                  'High Damage' : {'median': 12, 'beta': 0.40},\n",
    "                                                  'Replacement' : {'median': 50, 'beta': 0.32}\n",
    "                                                 }\n",
    "                               },\n",
    "                               \n",
    "                 'Financing' : {'Pre-arranged Credit': {'median':  1, 'beta': 0.54},\n",
    "                                'Insurance'          : {'median':  6, 'beta': 1.11},\n",
    "                                'Private Loans'      : {'median': 15, 'beta': 0.68},\n",
    "                                'SBA-backed Loans'   : {'median': 48, 'beta': 0.57}\n",
    "                               },\n",
    "                                                         \n",
    "                 'ContrMob'  : {'Essential'    : {'On Contract': {'Low Damage' : {'median':  3, 'beta': 0.66},\n",
    "                                                                  'High Damage': {'median':  7, 'beta': 0.35}\n",
    "                                                                 },\n",
    "                                                  'Default'    : {'Low Damage' : {'median':  7, 'beta': 0.60},\n",
    "                                                                  'High Damage': {'median': 19, 'beta': 0.38}\n",
    "                                                                 }\n",
    "                                                 },\n",
    "                                'Non-Essential': {'On Contract': {'Low Damage' : {'median':  3, 'beta': 0.66},\n",
    "                                                                  'High Damage': {'median':  7, 'beta': 0.35}\n",
    "                                                                 },\n",
    "                                                  'Default'    : {'Low Damage' : {'median': 11, 'beta': 0.43},\n",
    "                                                                  'High Damage': {'median': 23, 'beta': 0.41}\n",
    "                                                                 }\n",
    "                                                 },\n",
    "                                'Highrise'     : {'On Contract': {'Low Damage' : {'median':  3, 'beta': 0.66},\n",
    "                                                                  'High Damage': {'median':  7, 'beta': 0.35}\n",
    "                                                                 },\n",
    "                                                  'Default'    : {'Low Damage' : {'median': 28, 'beta': 0.30},\n",
    "                                                                  'High Damage': {'median': 40, 'beta': 0.31}\n",
    "                                                                 }\n",
    "                                                 }\n",
    "                               },\n",
    "\n",
    "                 'Permitting': {'Default'      :{'Low Damage'   : {'median': 1, 'beta': 0.86},\n",
    "                                                 'High Damage'  : {'median': 8, 'beta': 0.32}\n",
    "                                                }\n",
    "                               }                   \n",
    "                }\n",
    "\n",
    "IF_json = json.dumps(if_dictionary, indent=4)\n",
    "f = open(\"ImpedingFactors_ParameterDictionary.json\", \"w\")\n",
    "f.write(IF_json)\n",
    "f.close()"
   ]
  }
 ],
 "metadata": {
  "kernelspec": {
   "display_name": "Python 3",
   "language": "python",
   "name": "python3"
  },
  "language_info": {
   "codemirror_mode": {
    "name": "ipython",
    "version": 3
   },
   "file_extension": ".py",
   "mimetype": "text/x-python",
   "name": "python",
   "nbconvert_exporter": "python",
   "pygments_lexer": "ipython3",
   "version": "3.7.4"
  }
 },
 "nbformat": 4,
 "nbformat_minor": 2
}
